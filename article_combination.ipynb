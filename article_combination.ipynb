{
  "cells": [
    {
      "cell_type": "code",
      "execution_count": null,
      "id": "f38ad46f-bc30-48b3-bfb4-59314d6674b9",
      "metadata": {
        "id": "f38ad46f-bc30-48b3-bfb4-59314d6674b9"
      },
      "outputs": [],
      "source": [
        "import pandas as pd"
      ]
    },
    {
      "cell_type": "code",
      "execution_count": null,
      "id": "f8cc2bc3-2c5c-4c35-9bfb-ec26c32b21d3",
      "metadata": {
        "id": "f8cc2bc3-2c5c-4c35-9bfb-ec26c32b21d3"
      },
      "outputs": [],
      "source": [
        "relevant_articles = pd.read_csv(\"D:/downloads/relevant_search_results.csv\", usecols=[\"title\", \"doi\", \"abstract\", \"fulltext\"])\n",
        "irrelevant_articles = pd.read_csv(\"C:/Users/sogor/OneDrive/Documents/DataScientist_practice/medical_chatbot/negative_related_articles.csv\",\n",
        "                                 usecols=[\"title\", \"doi\", \"abstract\", \"fulltext\"])"
      ]
    },
    {
      "cell_type": "code",
      "execution_count": null,
      "id": "d92d60d6-d36d-404b-a004-98777b2e70aa",
      "metadata": {
        "id": "d92d60d6-d36d-404b-a004-98777b2e70aa"
      },
      "outputs": [],
      "source": [
        "relevant_articles['labels'] = 1\n",
        "irrelevant_articles['labels'] = 0"
      ]
    },
    {
      "cell_type": "code",
      "execution_count": null,
      "id": "6aafb04f-1055-4ca0-8036-b3b75a58f69d",
      "metadata": {
        "id": "6aafb04f-1055-4ca0-8036-b3b75a58f69d",
        "outputId": "89551102-d057-4635-873e-4cb99e6f8dd3"
      },
      "outputs": [
        {
          "data": {
            "text/html": [
              "<div>\n",
              "<style scoped>\n",
              "    .dataframe tbody tr th:only-of-type {\n",
              "        vertical-align: middle;\n",
              "    }\n",
              "\n",
              "    .dataframe tbody tr th {\n",
              "        vertical-align: top;\n",
              "    }\n",
              "\n",
              "    .dataframe thead th {\n",
              "        text-align: right;\n",
              "    }\n",
              "</style>\n",
              "<table border=\"1\" class=\"dataframe\">\n",
              "  <thead>\n",
              "    <tr style=\"text-align: right;\">\n",
              "      <th></th>\n",
              "      <th>title</th>\n",
              "      <th>doi</th>\n",
              "      <th>abstract</th>\n",
              "      <th>fulltext</th>\n",
              "      <th>labels</th>\n",
              "    </tr>\n",
              "  </thead>\n",
              "  <tbody>\n",
              "    <tr>\n",
              "      <th>0</th>\n",
              "      <td>COVID‐19 and obesity</td>\n",
              "      <td>10.1111/cob.12365</td>\n",
              "      <td>NaN</td>\n",
              "      <td>It is clear from this evidence that those with...</td>\n",
              "      <td>1</td>\n",
              "    </tr>\n",
              "    <tr>\n",
              "      <th>1</th>\n",
              "      <td>The effect of balneotherapy on body mass index...</td>\n",
              "      <td>10.1007/s00484-020-01924-x</td>\n",
              "      <td>To investigate the effect of balneotherapy on ...</td>\n",
              "      <td>Obesity is defined as abnormal or excessive fa...</td>\n",
              "      <td>1</td>\n",
              "    </tr>\n",
              "    <tr>\n",
              "      <th>2</th>\n",
              "      <td>The quintuple penalty of obese patients in the...</td>\n",
              "      <td>10.1016/j.soard.2020.04.032</td>\n",
              "      <td>[Figure: see text]</td>\n",
              "      <td>The quintuple penalty of obese patients in the...</td>\n",
              "      <td>1</td>\n",
              "    </tr>\n",
              "    <tr>\n",
              "      <th>3</th>\n",
              "      <td>Exercise and High-Fat Diet in Obesity: Functio...</td>\n",
              "      <td>10.3390/genes11080875</td>\n",
              "      <td>The heavy impact of obesity on both the popula...</td>\n",
              "      <td>Obesity is defined as an abnormal or excessive...</td>\n",
              "      <td>1</td>\n",
              "    </tr>\n",
              "    <tr>\n",
              "      <th>4</th>\n",
              "      <td>Estimates of global research productivity in u...</td>\n",
              "      <td>10.1186/s12992-018-0335-z</td>\n",
              "      <td>BACKGROUND: Tobacco use is a major healthcare ...</td>\n",
              "      <td>Tobacco use is a major healthcare problem worl...</td>\n",
              "      <td>1</td>\n",
              "    </tr>\n",
              "  </tbody>\n",
              "</table>\n",
              "</div>"
            ],
            "text/plain": [
              "                                               title  \\\n",
              "0                               COVID‐19 and obesity   \n",
              "1  The effect of balneotherapy on body mass index...   \n",
              "2  The quintuple penalty of obese patients in the...   \n",
              "3  Exercise and High-Fat Diet in Obesity: Functio...   \n",
              "4  Estimates of global research productivity in u...   \n",
              "\n",
              "                           doi  \\\n",
              "0            10.1111/cob.12365   \n",
              "1   10.1007/s00484-020-01924-x   \n",
              "2  10.1016/j.soard.2020.04.032   \n",
              "3        10.3390/genes11080875   \n",
              "4    10.1186/s12992-018-0335-z   \n",
              "\n",
              "                                            abstract  \\\n",
              "0                                                NaN   \n",
              "1  To investigate the effect of balneotherapy on ...   \n",
              "2                                 [Figure: see text]   \n",
              "3  The heavy impact of obesity on both the popula...   \n",
              "4  BACKGROUND: Tobacco use is a major healthcare ...   \n",
              "\n",
              "                                            fulltext  labels  \n",
              "0  It is clear from this evidence that those with...       1  \n",
              "1  Obesity is defined as abnormal or excessive fa...       1  \n",
              "2  The quintuple penalty of obese patients in the...       1  \n",
              "3  Obesity is defined as an abnormal or excessive...       1  \n",
              "4  Tobacco use is a major healthcare problem worl...       1  "
            ]
          },
          "execution_count": 4,
          "metadata": {},
          "output_type": "execute_result"
        }
      ],
      "source": [
        "relevant_articles.head()"
      ]
    },
    {
      "cell_type": "code",
      "execution_count": null,
      "id": "fb88b4bc-66f3-4754-8176-413734c010f5",
      "metadata": {
        "id": "fb88b4bc-66f3-4754-8176-413734c010f5",
        "outputId": "4329581b-018c-4f1f-c24e-eb9c8092e75c"
      },
      "outputs": [
        {
          "data": {
            "text/html": [
              "<div>\n",
              "<style scoped>\n",
              "    .dataframe tbody tr th:only-of-type {\n",
              "        vertical-align: middle;\n",
              "    }\n",
              "\n",
              "    .dataframe tbody tr th {\n",
              "        vertical-align: top;\n",
              "    }\n",
              "\n",
              "    .dataframe thead th {\n",
              "        text-align: right;\n",
              "    }\n",
              "</style>\n",
              "<table border=\"1\" class=\"dataframe\">\n",
              "  <thead>\n",
              "    <tr style=\"text-align: right;\">\n",
              "      <th></th>\n",
              "      <th>title</th>\n",
              "      <th>doi</th>\n",
              "      <th>abstract</th>\n",
              "      <th>fulltext</th>\n",
              "      <th>labels</th>\n",
              "    </tr>\n",
              "  </thead>\n",
              "  <tbody>\n",
              "    <tr>\n",
              "      <th>0</th>\n",
              "      <td>Competitive SARS-CoV-2 Serology Reveals Most A...</td>\n",
              "      <td>10.1128/msphere.00802-20</td>\n",
              "      <td>As severe acute respiratory syndrome coronavir...</td>\n",
              "      <td>T he emergence of severe acute respiratory syn...</td>\n",
              "      <td>0</td>\n",
              "    </tr>\n",
              "    <tr>\n",
              "      <th>1</th>\n",
              "      <td>Universities and social innovation for global ...</td>\n",
              "      <td>10.1016/j.techfore.2020.120399</td>\n",
              "      <td>Potential contributions of universities to soc...</td>\n",
              "      <td>Humankind seems to be in its way to an environ...</td>\n",
              "      <td>0</td>\n",
              "    </tr>\n",
              "    <tr>\n",
              "      <th>2</th>\n",
              "      <td>Housing market bubbles and urban resilience: A...</td>\n",
              "      <td>10.1016/j.cities.2020.102925</td>\n",
              "      <td>In this paper, we aim to connect the academic ...</td>\n",
              "      <td>The trend in urban growth and the need for urb...</td>\n",
              "      <td>0</td>\n",
              "    </tr>\n",
              "    <tr>\n",
              "      <th>3</th>\n",
              "      <td>COVID-19 versus HIT hypercoagulability</td>\n",
              "      <td>10.1016/j.thromres.2020.08.017</td>\n",
              "      <td>A striking feature of COVID-19 is the high fre...</td>\n",
              "      <td>of the alveolar epithelium, renal tubular epit...</td>\n",
              "      <td>0</td>\n",
              "    </tr>\n",
              "    <tr>\n",
              "      <th>4</th>\n",
              "      <td>COVID-19 patients with hypertension have more ...</td>\n",
              "      <td>10.1038/s41440-020-0485-2</td>\n",
              "      <td>This study aims to explore the effect of hyper...</td>\n",
              "      <td>At the end of 2019, a series of unexplained pn...</td>\n",
              "      <td>0</td>\n",
              "    </tr>\n",
              "  </tbody>\n",
              "</table>\n",
              "</div>"
            ],
            "text/plain": [
              "                                               title  \\\n",
              "0  Competitive SARS-CoV-2 Serology Reveals Most A...   \n",
              "1  Universities and social innovation for global ...   \n",
              "2  Housing market bubbles and urban resilience: A...   \n",
              "3             COVID-19 versus HIT hypercoagulability   \n",
              "4  COVID-19 patients with hypertension have more ...   \n",
              "\n",
              "                              doi  \\\n",
              "0        10.1128/msphere.00802-20   \n",
              "1  10.1016/j.techfore.2020.120399   \n",
              "2    10.1016/j.cities.2020.102925   \n",
              "3  10.1016/j.thromres.2020.08.017   \n",
              "4       10.1038/s41440-020-0485-2   \n",
              "\n",
              "                                            abstract  \\\n",
              "0  As severe acute respiratory syndrome coronavir...   \n",
              "1  Potential contributions of universities to soc...   \n",
              "2  In this paper, we aim to connect the academic ...   \n",
              "3  A striking feature of COVID-19 is the high fre...   \n",
              "4  This study aims to explore the effect of hyper...   \n",
              "\n",
              "                                            fulltext  labels  \n",
              "0  T he emergence of severe acute respiratory syn...       0  \n",
              "1  Humankind seems to be in its way to an environ...       0  \n",
              "2  The trend in urban growth and the need for urb...       0  \n",
              "3  of the alveolar epithelium, renal tubular epit...       0  \n",
              "4  At the end of 2019, a series of unexplained pn...       0  "
            ]
          },
          "execution_count": 5,
          "metadata": {},
          "output_type": "execute_result"
        }
      ],
      "source": [
        "irrelevant_articles.head()"
      ]
    },
    {
      "cell_type": "code",
      "execution_count": null,
      "id": "4d2c9286-e896-4a1c-b288-66339621b4ad",
      "metadata": {
        "id": "4d2c9286-e896-4a1c-b288-66339621b4ad",
        "outputId": "0a9b3d84-d3c9-47db-96c2-788eef0189f4"
      },
      "outputs": [
        {
          "data": {
            "text/plain": [
              "((1190, 5), (1190, 5))"
            ]
          },
          "execution_count": 6,
          "metadata": {},
          "output_type": "execute_result"
        }
      ],
      "source": [
        "relevant_articles.shape, irrelevant_articles.shape"
      ]
    },
    {
      "cell_type": "code",
      "execution_count": null,
      "id": "2a6fc51e-48c1-49a9-bf28-44fe70bb7549",
      "metadata": {
        "id": "2a6fc51e-48c1-49a9-bf28-44fe70bb7549",
        "outputId": "369433c2-cfd0-4b47-8d63-5a4288267069"
      },
      "outputs": [
        {
          "data": {
            "text/html": [
              "<div>\n",
              "<style scoped>\n",
              "    .dataframe tbody tr th:only-of-type {\n",
              "        vertical-align: middle;\n",
              "    }\n",
              "\n",
              "    .dataframe tbody tr th {\n",
              "        vertical-align: top;\n",
              "    }\n",
              "\n",
              "    .dataframe thead th {\n",
              "        text-align: right;\n",
              "    }\n",
              "</style>\n",
              "<table border=\"1\" class=\"dataframe\">\n",
              "  <thead>\n",
              "    <tr style=\"text-align: right;\">\n",
              "      <th></th>\n",
              "      <th>title_relevant</th>\n",
              "      <th>doi</th>\n",
              "      <th>abstract_relevant</th>\n",
              "      <th>fulltext_relevant</th>\n",
              "      <th>labels_relevant</th>\n",
              "      <th>title_irrelevant</th>\n",
              "      <th>abstract_irrelevant</th>\n",
              "      <th>fulltext_irrelevant</th>\n",
              "      <th>labels_irrelevant</th>\n",
              "    </tr>\n",
              "  </thead>\n",
              "  <tbody>\n",
              "  </tbody>\n",
              "</table>\n",
              "</div>"
            ],
            "text/plain": [
              "Empty DataFrame\n",
              "Columns: [title_relevant, doi, abstract_relevant, fulltext_relevant, labels_relevant, title_irrelevant, abstract_irrelevant, fulltext_irrelevant, labels_irrelevant]\n",
              "Index: []"
            ]
          },
          "execution_count": 7,
          "metadata": {},
          "output_type": "execute_result"
        }
      ],
      "source": [
        "merged_df = pd.merge(relevant_articles, irrelevant_articles, on=\"doi\", how=\"inner\", suffixes=('_relevant', '_irrelevant'))\n",
        "merged_df.head()"
      ]
    },
    {
      "cell_type": "code",
      "execution_count": null,
      "id": "3460d653-5b5b-426a-8a23-0e14e2add040",
      "metadata": {
        "id": "3460d653-5b5b-426a-8a23-0e14e2add040",
        "outputId": "cdb74acc-b89e-45b0-d95c-81a1fc7f7e39"
      },
      "outputs": [
        {
          "data": {
            "text/html": [
              "<div>\n",
              "<style scoped>\n",
              "    .dataframe tbody tr th:only-of-type {\n",
              "        vertical-align: middle;\n",
              "    }\n",
              "\n",
              "    .dataframe tbody tr th {\n",
              "        vertical-align: top;\n",
              "    }\n",
              "\n",
              "    .dataframe thead th {\n",
              "        text-align: right;\n",
              "    }\n",
              "</style>\n",
              "<table border=\"1\" class=\"dataframe\">\n",
              "  <thead>\n",
              "    <tr style=\"text-align: right;\">\n",
              "      <th></th>\n",
              "      <th>title</th>\n",
              "      <th>doi</th>\n",
              "      <th>abstract</th>\n",
              "      <th>fulltext</th>\n",
              "      <th>labels</th>\n",
              "    </tr>\n",
              "  </thead>\n",
              "  <tbody>\n",
              "    <tr>\n",
              "      <th>0</th>\n",
              "      <td>COVID‐19 and obesity</td>\n",
              "      <td>10.1111/cob.12365</td>\n",
              "      <td>NaN</td>\n",
              "      <td>It is clear from this evidence that those with...</td>\n",
              "      <td>1</td>\n",
              "    </tr>\n",
              "    <tr>\n",
              "      <th>1</th>\n",
              "      <td>The effect of balneotherapy on body mass index...</td>\n",
              "      <td>10.1007/s00484-020-01924-x</td>\n",
              "      <td>To investigate the effect of balneotherapy on ...</td>\n",
              "      <td>Obesity is defined as abnormal or excessive fa...</td>\n",
              "      <td>1</td>\n",
              "    </tr>\n",
              "    <tr>\n",
              "      <th>2</th>\n",
              "      <td>The quintuple penalty of obese patients in the...</td>\n",
              "      <td>10.1016/j.soard.2020.04.032</td>\n",
              "      <td>[Figure: see text]</td>\n",
              "      <td>The quintuple penalty of obese patients in the...</td>\n",
              "      <td>1</td>\n",
              "    </tr>\n",
              "    <tr>\n",
              "      <th>3</th>\n",
              "      <td>Exercise and High-Fat Diet in Obesity: Functio...</td>\n",
              "      <td>10.3390/genes11080875</td>\n",
              "      <td>The heavy impact of obesity on both the popula...</td>\n",
              "      <td>Obesity is defined as an abnormal or excessive...</td>\n",
              "      <td>1</td>\n",
              "    </tr>\n",
              "    <tr>\n",
              "      <th>4</th>\n",
              "      <td>Estimates of global research productivity in u...</td>\n",
              "      <td>10.1186/s12992-018-0335-z</td>\n",
              "      <td>BACKGROUND: Tobacco use is a major healthcare ...</td>\n",
              "      <td>Tobacco use is a major healthcare problem worl...</td>\n",
              "      <td>1</td>\n",
              "    </tr>\n",
              "  </tbody>\n",
              "</table>\n",
              "</div>"
            ],
            "text/plain": [
              "                                               title  \\\n",
              "0                               COVID‐19 and obesity   \n",
              "1  The effect of balneotherapy on body mass index...   \n",
              "2  The quintuple penalty of obese patients in the...   \n",
              "3  Exercise and High-Fat Diet in Obesity: Functio...   \n",
              "4  Estimates of global research productivity in u...   \n",
              "\n",
              "                           doi  \\\n",
              "0            10.1111/cob.12365   \n",
              "1   10.1007/s00484-020-01924-x   \n",
              "2  10.1016/j.soard.2020.04.032   \n",
              "3        10.3390/genes11080875   \n",
              "4    10.1186/s12992-018-0335-z   \n",
              "\n",
              "                                            abstract  \\\n",
              "0                                                NaN   \n",
              "1  To investigate the effect of balneotherapy on ...   \n",
              "2                                 [Figure: see text]   \n",
              "3  The heavy impact of obesity on both the popula...   \n",
              "4  BACKGROUND: Tobacco use is a major healthcare ...   \n",
              "\n",
              "                                            fulltext  labels  \n",
              "0  It is clear from this evidence that those with...       1  \n",
              "1  Obesity is defined as abnormal or excessive fa...       1  \n",
              "2  The quintuple penalty of obese patients in the...       1  \n",
              "3  Obesity is defined as an abnormal or excessive...       1  \n",
              "4  Tobacco use is a major healthcare problem worl...       1  "
            ]
          },
          "execution_count": 8,
          "metadata": {},
          "output_type": "execute_result"
        }
      ],
      "source": [
        "combined_df = pd.concat([relevant_articles, irrelevant_articles], ignore_index=True)\n",
        "combined_df.head()"
      ]
    },
    {
      "cell_type": "code",
      "execution_count": null,
      "id": "84db5780-fb42-40ae-a1d7-6cc9db1fadc6",
      "metadata": {
        "id": "84db5780-fb42-40ae-a1d7-6cc9db1fadc6",
        "outputId": "31361348-b250-422b-fb68-3ad6b6b4f84e"
      },
      "outputs": [
        {
          "data": {
            "text/plain": [
              "(2380, 5)"
            ]
          },
          "execution_count": 9,
          "metadata": {},
          "output_type": "execute_result"
        }
      ],
      "source": [
        "combined_df.shape"
      ]
    },
    {
      "cell_type": "code",
      "execution_count": null,
      "id": "aaa76dcb-3a43-41d4-a6d6-a312094df087",
      "metadata": {
        "id": "aaa76dcb-3a43-41d4-a6d6-a312094df087",
        "outputId": "81981430-fd73-4547-bccb-ba82a052cc55"
      },
      "outputs": [
        {
          "data": {
            "text/plain": [
              "labels\n",
              "1    1190\n",
              "0    1190\n",
              "Name: count, dtype: int64"
            ]
          },
          "execution_count": 10,
          "metadata": {},
          "output_type": "execute_result"
        }
      ],
      "source": [
        "combined_df['labels'].value_counts()"
      ]
    },
    {
      "cell_type": "code",
      "execution_count": null,
      "id": "63195460-9d15-4d05-ae8a-e71a5546d094",
      "metadata": {
        "id": "63195460-9d15-4d05-ae8a-e71a5546d094"
      },
      "outputs": [],
      "source": [
        "combined_df.to_csv(\"C:/Users/sogor/OneDrive/Documents/DataScientist_practice/medical_chatbot/positive_negative_articles.csv\", index=False)"
      ]
    }
  ],
  "metadata": {
    "kernelspec": {
      "display_name": "Python 3 (ipykernel)",
      "language": "python",
      "name": "python3"
    },
    "language_info": {
      "codemirror_mode": {
        "name": "ipython",
        "version": 3
      },
      "file_extension": ".py",
      "mimetype": "text/x-python",
      "name": "python",
      "nbconvert_exporter": "python",
      "pygments_lexer": "ipython3",
      "version": "3.9.5"
    },
    "colab": {
      "provenance": []
    }
  },
  "nbformat": 4,
  "nbformat_minor": 5
}