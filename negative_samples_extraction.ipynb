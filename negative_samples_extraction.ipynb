{
  "cells": [
    {
      "cell_type": "code",
      "execution_count": null,
      "id": "6a9bc2ce-2632-4a5d-bb2d-35cfc6dd9c6f",
      "metadata": {
        "id": "6a9bc2ce-2632-4a5d-bb2d-35cfc6dd9c6f"
      },
      "outputs": [],
      "source": [
        "import pandas as pd\n",
        "import warnings\n",
        "warnings.filterwarnings('ignore')"
      ]
    },
    {
      "cell_type": "code",
      "execution_count": null,
      "id": "2b5e8059-3732-432c-b9e6-a40b16f533a0",
      "metadata": {
        "id": "2b5e8059-3732-432c-b9e6-a40b16f533a0"
      },
      "outputs": [],
      "source": [
        "df_matched_terms = pd.read_csv(\"D:/downloads/relevant_search_results.csv\")"
      ]
    },
    {
      "cell_type": "code",
      "execution_count": null,
      "id": "1c19afd3-f0bf-42db-b4e9-1d33c92325fb",
      "metadata": {
        "id": "1c19afd3-f0bf-42db-b4e9-1d33c92325fb",
        "outputId": "3d521359-ce60-4f07-fe86-e536ab7d3e2d"
      },
      "outputs": [
        {
          "data": {
            "text/plain": [
              "(1190, 6)"
            ]
          },
          "execution_count": 3,
          "metadata": {},
          "output_type": "execute_result"
        }
      ],
      "source": [
        "df_matched_terms.shape"
      ]
    },
    {
      "cell_type": "code",
      "execution_count": null,
      "id": "8c48ad47-e235-4a0b-b266-0eeeaf11cc93",
      "metadata": {
        "id": "8c48ad47-e235-4a0b-b266-0eeeaf11cc93",
        "outputId": "75bcc715-eecc-442c-aca1-72c27178a0a2"
      },
      "outputs": [
        {
          "data": {
            "text/plain": [
              "array(['morbid obesity', 'smoking cessation', 'tobacco use',\n",
              "       'cigarette consumption', 'nicotine exposure', 'tobacco',\n",
              "       'cigarette', 'smoking behavior', 'adiposity', 'secondhand smoke',\n",
              "       'obesity', 'body fat accumulation', 'fat accumulation', 'nicotine',\n",
              "       'obesity disorder', 'smoking', 'high body mass'], dtype=object)"
            ]
          },
          "execution_count": 4,
          "metadata": {},
          "output_type": "execute_result"
        }
      ],
      "source": [
        "df_matched_terms['matched_term'].unique()"
      ]
    },
    {
      "cell_type": "code",
      "execution_count": null,
      "id": "5fc63f73-3ebf-43fd-a482-0b1137427564",
      "metadata": {
        "id": "5fc63f73-3ebf-43fd-a482-0b1137427564"
      },
      "outputs": [],
      "source": [
        "full_cord = pd.read_csv(\"D:/downloads/cord19_fulltext.csv\")"
      ]
    },
    {
      "cell_type": "code",
      "execution_count": null,
      "id": "a85f9a1d-dbfa-447a-ba62-af1953ac3cd6",
      "metadata": {
        "id": "a85f9a1d-dbfa-447a-ba62-af1953ac3cd6",
        "outputId": "ee2448a7-bb6b-4cc6-b178-de73a8995e4c"
      },
      "outputs": [
        {
          "data": {
            "text/html": [
              "<div>\n",
              "<style scoped>\n",
              "    .dataframe tbody tr th:only-of-type {\n",
              "        vertical-align: middle;\n",
              "    }\n",
              "\n",
              "    .dataframe tbody tr th {\n",
              "        vertical-align: top;\n",
              "    }\n",
              "\n",
              "    .dataframe thead th {\n",
              "        text-align: right;\n",
              "    }\n",
              "</style>\n",
              "<table border=\"1\" class=\"dataframe\">\n",
              "  <thead>\n",
              "    <tr style=\"text-align: right;\">\n",
              "      <th></th>\n",
              "      <th>cord_uid</th>\n",
              "      <th>sha</th>\n",
              "      <th>source_x</th>\n",
              "      <th>title</th>\n",
              "      <th>doi</th>\n",
              "      <th>abstract</th>\n",
              "      <th>publish_time</th>\n",
              "      <th>authors</th>\n",
              "      <th>journal</th>\n",
              "      <th>url</th>\n",
              "      <th>fulltext</th>\n",
              "    </tr>\n",
              "  </thead>\n",
              "  <tbody>\n",
              "    <tr>\n",
              "      <th>0</th>\n",
              "      <td>ug7v899j</td>\n",
              "      <td>d1aafb70c066a2068b02786f8929fd9c900897fb</td>\n",
              "      <td>PMC</td>\n",
              "      <td>Clinical features of culture-proven Mycoplasma...</td>\n",
              "      <td>10.1186/1471-2334-1-6</td>\n",
              "      <td>OBJECTIVE: This retrospective chart review des...</td>\n",
              "      <td>2001-07-04</td>\n",
              "      <td>Madani, Tariq A; Al-Ghamdi, Aisha A</td>\n",
              "      <td>BMC Infect Dis</td>\n",
              "      <td>https://www.ncbi.nlm.nih.gov/pmc/articles/PMC3...</td>\n",
              "      <td>Mycoplasma pneumoniae is a common cause of upp...</td>\n",
              "    </tr>\n",
              "    <tr>\n",
              "      <th>1</th>\n",
              "      <td>02tnwd4m</td>\n",
              "      <td>6b0567729c2143a66d737eb0a2f63f2dce2e5a7d</td>\n",
              "      <td>PMC</td>\n",
              "      <td>Nitric oxide: a pro-inflammatory mediator in l...</td>\n",
              "      <td>10.1186/rr14</td>\n",
              "      <td>Inflammatory diseases of the respiratory tract...</td>\n",
              "      <td>2000-08-15</td>\n",
              "      <td>Vliet, Albert van der; Eiserich, Jason P; Cros...</td>\n",
              "      <td>Respir Res</td>\n",
              "      <td>https://www.ncbi.nlm.nih.gov/pmc/articles/PMC5...</td>\n",
              "      <td>Since its discovery as a biological messenger ...</td>\n",
              "    </tr>\n",
              "    <tr>\n",
              "      <th>2</th>\n",
              "      <td>ejv2xln0</td>\n",
              "      <td>06ced00a5fc04215949aa72528f2eeaae1d58927</td>\n",
              "      <td>PMC</td>\n",
              "      <td>Surfactant protein-D and pulmonary host defense</td>\n",
              "      <td>10.1186/rr19</td>\n",
              "      <td>Surfactant protein-D (SP-D) participates in th...</td>\n",
              "      <td>2000-08-25</td>\n",
              "      <td>Crouch, Erika C</td>\n",
              "      <td>Respir Res</td>\n",
              "      <td>https://www.ncbi.nlm.nih.gov/pmc/articles/PMC5...</td>\n",
              "      <td>Surfactant protein-D (SP-D) is a member of the...</td>\n",
              "    </tr>\n",
              "    <tr>\n",
              "      <th>3</th>\n",
              "      <td>2b73a28n</td>\n",
              "      <td>348055649b6b8cf2b9a376498df9bf41f7123605</td>\n",
              "      <td>PMC</td>\n",
              "      <td>Role of endothelin-1 in lung disease</td>\n",
              "      <td>10.1186/rr44</td>\n",
              "      <td>Endothelin-1 (ET-1) is a 21 amino acid peptide...</td>\n",
              "      <td>2001-02-22</td>\n",
              "      <td>Fagan, Karen A; McMurtry, Ivan F; Rodman, David M</td>\n",
              "      <td>Respir Res</td>\n",
              "      <td>https://www.ncbi.nlm.nih.gov/pmc/articles/PMC5...</td>\n",
              "      <td>from Xenopus laevis [16] . ETA receptors in no...</td>\n",
              "    </tr>\n",
              "    <tr>\n",
              "      <th>4</th>\n",
              "      <td>9785vg6d</td>\n",
              "      <td>5f48792a5fa08bed9f56016f4981ae2ca6031b32</td>\n",
              "      <td>PMC</td>\n",
              "      <td>Gene expression in epithelial cells in respons...</td>\n",
              "      <td>10.1186/rr61</td>\n",
              "      <td>Respiratory syncytial virus (RSV) and pneumoni...</td>\n",
              "      <td>2001-05-11</td>\n",
              "      <td>Domachowske, Joseph B; Bonville, Cynthia A; Ro...</td>\n",
              "      <td>Respir Res</td>\n",
              "      <td>https://www.ncbi.nlm.nih.gov/pmc/articles/PMC5...</td>\n",
              "      <td>RSV and PVM are viruses of the family Paramyxo...</td>\n",
              "    </tr>\n",
              "  </tbody>\n",
              "</table>\n",
              "</div>"
            ],
            "text/plain": [
              "   cord_uid                                       sha source_x  \\\n",
              "0  ug7v899j  d1aafb70c066a2068b02786f8929fd9c900897fb      PMC   \n",
              "1  02tnwd4m  6b0567729c2143a66d737eb0a2f63f2dce2e5a7d      PMC   \n",
              "2  ejv2xln0  06ced00a5fc04215949aa72528f2eeaae1d58927      PMC   \n",
              "3  2b73a28n  348055649b6b8cf2b9a376498df9bf41f7123605      PMC   \n",
              "4  9785vg6d  5f48792a5fa08bed9f56016f4981ae2ca6031b32      PMC   \n",
              "\n",
              "                                               title                    doi  \\\n",
              "0  Clinical features of culture-proven Mycoplasma...  10.1186/1471-2334-1-6   \n",
              "1  Nitric oxide: a pro-inflammatory mediator in l...           10.1186/rr14   \n",
              "2    Surfactant protein-D and pulmonary host defense           10.1186/rr19   \n",
              "3               Role of endothelin-1 in lung disease           10.1186/rr44   \n",
              "4  Gene expression in epithelial cells in respons...           10.1186/rr61   \n",
              "\n",
              "                                            abstract publish_time  \\\n",
              "0  OBJECTIVE: This retrospective chart review des...   2001-07-04   \n",
              "1  Inflammatory diseases of the respiratory tract...   2000-08-15   \n",
              "2  Surfactant protein-D (SP-D) participates in th...   2000-08-25   \n",
              "3  Endothelin-1 (ET-1) is a 21 amino acid peptide...   2001-02-22   \n",
              "4  Respiratory syncytial virus (RSV) and pneumoni...   2001-05-11   \n",
              "\n",
              "                                             authors         journal  \\\n",
              "0                Madani, Tariq A; Al-Ghamdi, Aisha A  BMC Infect Dis   \n",
              "1  Vliet, Albert van der; Eiserich, Jason P; Cros...      Respir Res   \n",
              "2                                    Crouch, Erika C      Respir Res   \n",
              "3  Fagan, Karen A; McMurtry, Ivan F; Rodman, David M      Respir Res   \n",
              "4  Domachowske, Joseph B; Bonville, Cynthia A; Ro...      Respir Res   \n",
              "\n",
              "                                                 url  \\\n",
              "0  https://www.ncbi.nlm.nih.gov/pmc/articles/PMC3...   \n",
              "1  https://www.ncbi.nlm.nih.gov/pmc/articles/PMC5...   \n",
              "2  https://www.ncbi.nlm.nih.gov/pmc/articles/PMC5...   \n",
              "3  https://www.ncbi.nlm.nih.gov/pmc/articles/PMC5...   \n",
              "4  https://www.ncbi.nlm.nih.gov/pmc/articles/PMC5...   \n",
              "\n",
              "                                            fulltext  \n",
              "0  Mycoplasma pneumoniae is a common cause of upp...  \n",
              "1  Since its discovery as a biological messenger ...  \n",
              "2  Surfactant protein-D (SP-D) is a member of the...  \n",
              "3  from Xenopus laevis [16] . ETA receptors in no...  \n",
              "4  RSV and PVM are viruses of the family Paramyxo...  "
            ]
          },
          "execution_count": 6,
          "metadata": {},
          "output_type": "execute_result"
        }
      ],
      "source": [
        "full_cord.head()"
      ]
    },
    {
      "cell_type": "code",
      "execution_count": null,
      "id": "366a32e0-5d33-4a48-9d36-eab0209c5d8c",
      "metadata": {
        "id": "366a32e0-5d33-4a48-9d36-eab0209c5d8c",
        "outputId": "34f08918-f675-43b8-b0dc-a28edf4cc3b7"
      },
      "outputs": [
        {
          "name": "stdout",
          "output_type": "stream",
          "text": [
            "Saved 1190 negative articles to CSV.\n"
          ]
        }
      ],
      "source": [
        "full_cord_clean = full_cord.dropna(subset=['abstract', 'fulltext'])\n",
        "negative_articles = full_cord_clean[~full_cord_clean['doi'].isin(df_matched_terms['doi'])]\n",
        "negative_articles_sampled = negative_articles.sample(n=df_matched_terms.shape[0], random_state=42)\n",
        "negative_articles_sampled.to_csv(\"C:/Users/sogor/OneDrive/Documents/DataScientist_practice/medical_chatbot/negative_related_articles.csv\", index=False)\n",
        "\n",
        "print(f\"Saved {len(negative_articles_sampled)} negative articles to CSV.\")"
      ]
    }
  ],
  "metadata": {
    "kernelspec": {
      "display_name": "Python 3 (ipykernel)",
      "language": "python",
      "name": "python3"
    },
    "language_info": {
      "codemirror_mode": {
        "name": "ipython",
        "version": 3
      },
      "file_extension": ".py",
      "mimetype": "text/x-python",
      "name": "python",
      "nbconvert_exporter": "python",
      "pygments_lexer": "ipython3",
      "version": "3.9.5"
    },
    "colab": {
      "provenance": []
    }
  },
  "nbformat": 4,
  "nbformat_minor": 5
}