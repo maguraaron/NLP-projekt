{
 "cells": [
  {
   "cell_type": "code",
   "execution_count": 1,
   "id": "793113b6-9f0a-460f-a272-97c6d4bd9e3b",
   "metadata": {},
   "outputs": [],
   "source": [
    "import polars as pl\n",
    "import re"
   ]
  },
  {
   "cell_type": "code",
   "execution_count": 2,
   "id": "32c038e1-15c9-4b9c-b635-9cec01ff59a4",
   "metadata": {},
   "outputs": [],
   "source": [
    "splits = {'train': 'phrases_no_exclude_train.jsonl', 'test': 'phrases_no_exclude_test.jsonl'}\n",
    "df = pl.read_ndjson('hf://datasets/GBaker/MedQA-USMLE-4-options/' + splits['train'])"
   ]
  },
  {
   "cell_type": "code",
   "execution_count": 3,
   "id": "4943f88e-aa93-4b3a-9917-f51995939292",
   "metadata": {},
   "outputs": [
    {
     "data": {
      "text/html": [
       "<div><style>\n",
       ".dataframe > thead > tr,\n",
       ".dataframe > tbody > tr {\n",
       "  text-align: right;\n",
       "  white-space: pre-wrap;\n",
       "}\n",
       "</style>\n",
       "<small>shape: (5, 6)</small><table border=\"1\" class=\"dataframe\"><thead><tr><th>question</th><th>answer</th><th>options</th><th>meta_info</th><th>answer_idx</th><th>metamap_phrases</th></tr><tr><td>str</td><td>str</td><td>struct[4]</td><td>str</td><td>str</td><td>list[str]</td></tr></thead><tbody><tr><td>&quot;A 23-year-old pregnant woman a…</td><td>&quot;Nitrofurantoin&quot;</td><td>{&quot;Ampicillin&quot;,&quot;Ceftriaxone&quot;,&quot;Doxycycline&quot;,&quot;Nitrofurantoin&quot;}</td><td>&quot;step2&amp;3&quot;</td><td>&quot;D&quot;</td><td>[&quot;23 year old pregnant woman&quot;, &quot;weeks presents&quot;, … &quot;patient&quot;]</td></tr><tr><td>&quot;A 3-month-old baby died sudden…</td><td>&quot;Placing the infant in a supine…</td><td>{&quot;Placing the infant in a supine position on a firm mattress while sleeping&quot;,&quot;Keeping the infant covered and maintaining a high room temperature&quot;,&quot;Application of a device to maintain the sleeping position&quot;,&quot;Avoiding pacifier use during sleep&quot;}</td><td>&quot;step2&amp;3&quot;</td><td>&quot;A&quot;</td><td>[&quot;3 month old baby died&quot;, &quot;night&quot;, … &quot;baby&quot;]</td></tr><tr><td>&quot;A mother brings her 3-week-old…</td><td>&quot;Abnormal migration of ventral …</td><td>{&quot;Abnormal migration of ventral pancreatic bud&quot;,&quot;Complete failure of proximal duodenum to recanalize&quot;,&quot;Abnormal hypertrophy of the pylorus&quot;,&quot;Failure of lateral body folds to move ventrally and fuse in the midline&quot;}</td><td>&quot;step1&quot;</td><td>&quot;A&quot;</td><td>[&quot;mother&quot;, &quot;week old infant&quot;, … &quot;presentation&quot;]</td></tr><tr><td>&quot;A pulmonary autopsy specimen f…</td><td>&quot;Thromboembolism&quot;</td><td>{&quot;Thromboembolism&quot;,&quot;Pulmonary ischemia&quot;,&quot;Pulmonary hypertension&quot;,&quot;Pulmonary passive congestion&quot;}</td><td>&quot;step1&quot;</td><td>&quot;A&quot;</td><td>[&quot;pulmonary autopsy specimen&quot;, &quot;58 year old woman&quot;, … &quot;present findings&quot;]</td></tr><tr><td>&quot;A 20-year-old woman presents w…</td><td>&quot;Von Willebrand disease&quot;</td><td>{&quot;Hemophilia A&quot;,&quot;Lupus anticoagulant&quot;,&quot;Protein C deficiency&quot;,&quot;Von Willebrand disease&quot;}</td><td>&quot;step1&quot;</td><td>&quot;D&quot;</td><td>[&quot;20 year old woman presents&quot;, &quot;menorrhagia&quot;, … &quot;patients symptoms&quot;]</td></tr></tbody></table></div>"
      ],
      "text/plain": [
       "shape: (5, 6)\n",
       "┌───────────────────────┬───────────────────────┬──────────────────────┬───────────┬────────────┬──────────────────────┐\n",
       "│ question              ┆ answer                ┆ options              ┆ meta_info ┆ answer_idx ┆ metamap_phrases      │\n",
       "│ ---                   ┆ ---                   ┆ ---                  ┆ ---       ┆ ---        ┆ ---                  │\n",
       "│ str                   ┆ str                   ┆ struct[4]            ┆ str       ┆ str        ┆ list[str]            │\n",
       "╞═══════════════════════╪═══════════════════════╪══════════════════════╪═══════════╪════════════╪══════════════════════╡\n",
       "│ A 23-year-old         ┆ Nitrofurantoin        ┆ {\"Ampicillin\",\"Ceftr ┆ step2&3   ┆ D          ┆ [\"23 year old        │\n",
       "│ pregnant woman a…     ┆                       ┆ iaxone\",\"D…          ┆           ┆            ┆ pregnant woman\",…    │\n",
       "│ A 3-month-old baby    ┆ Placing the infant in ┆ {\"Placing the infant ┆ step2&3   ┆ A          ┆ [\"3 month old baby   │\n",
       "│ died sudden…          ┆ a supine…             ┆ in a supi…           ┆           ┆            ┆ died\", \"nig…         │\n",
       "│ A mother brings her   ┆ Abnormal migration of ┆ {\"Abnormal migration ┆ step1     ┆ A          ┆ [\"mother\", \"week old │\n",
       "│ 3-week-old…           ┆ ventral …             ┆ of ventra…           ┆           ┆            ┆ infant\", …           │\n",
       "│ A pulmonary autopsy   ┆ Thromboembolism       ┆ {\"Thromboembolism\",\" ┆ step1     ┆ A          ┆ [\"pulmonary autopsy  │\n",
       "│ specimen f…           ┆                       ┆ Pulmonary …          ┆           ┆            ┆ specimen\",…          │\n",
       "│ A 20-year-old woman   ┆ Von Willebrand        ┆ {\"Hemophilia         ┆ step1     ┆ D          ┆ [\"20 year old woman  │\n",
       "│ presents w…           ┆ disease               ┆ A\",\"Lupus anticoa…   ┆           ┆            ┆ presents\",…          │\n",
       "└───────────────────────┴───────────────────────┴──────────────────────┴───────────┴────────────┴──────────────────────┘"
      ]
     },
     "execution_count": 3,
     "metadata": {},
     "output_type": "execute_result"
    }
   ],
   "source": [
    "df.head()"
   ]
  },
  {
   "cell_type": "code",
   "execution_count": 4,
   "id": "74fed18e-7dbc-44fe-9831-40a21fa88426",
   "metadata": {},
   "outputs": [],
   "source": [
    "smoking_key_terms = {\n",
    "        'smoke': ['smoking behavior', 'tobacco use', 'cigarette consumption',\n",
    "                  'nicotine exposure', 'secondhand smoke', 'smoking cessation'],\n",
    "        'smoking': ['smoking behavior', 'tobacco use', 'cigarette consumption',\n",
    "                    'nicotine exposure', 'secondhand smoke', 'smoking cessation'],\n",
    "        'tobacco': ['tobacco use', 'smoking', 'nicotine', 'cigarette'],\n",
    "        'nicotine': ['nicotine exposure', 'smoking', 'tobacco', 'cigarette'],\n",
    "        'cigarette': ['cigarette consumption', 'smoking', 'tobacco', 'nicotine']\n",
    "      }\n",
    "\n",
    "obesity_key_terms = {  \n",
    "        'obesity': ['overweight', 'adiposity', 'morbid obesity', 'excessive body weight',\n",
    "                    'obesity disorder', 'high BMI', 'body fat accumulation'],\n",
    "        'overweight': ['obesity', 'excess weight', 'adiposity', 'weight problem',\n",
    "                       'high body mass', 'increased BMI'],\n",
    "        'adiposity': ['obesity', 'overweight', 'body fat', 'fat accumulation']\n",
    "}\n",
    "\n",
    "covid_key_terms = {\n",
    "    'covid': ['covid-19', 'coronavirus', 'sars-cov-2', 'pandemic', 'covid infection', 'covid infection', 'respiratory illness']\n",
    "}"
   ]
  },
  {
   "cell_type": "code",
   "execution_count": 5,
   "id": "bb80e145-4c04-449d-9070-34588eb7efd3",
   "metadata": {},
   "outputs": [],
   "source": [
    "smoking_matches = set()\n",
    "for terms in smoking_key_terms.values():\n",
    "    smoking_matches.update(terms)\n",
    "\n",
    "obesity_matches = set()\n",
    "for terms in obesity_key_terms.values():\n",
    "    obesity_matches.update(terms)\n",
    "\n",
    "covid_matches = set()\n",
    "for terms in covid_key_terms.values():\n",
    "    covid_matches.update(terms)\n",
    "\n",
    "smoking_regex_pattern = '|'.join(re.escape(term) for term in smoking_matches)\n",
    "filtered_for_smoking = df.filter(pl.col('question').str.contains(smoking_regex_pattern))\n",
    "\n",
    "obesity_regex_pattern = '|'.join(re.escape(term) for term in obesity_matches)\n",
    "filtered_for_obesity = df.filter(pl.col('question').str.contains(obesity_regex_pattern))\n",
    "\n",
    "covid_regex_pattern = '|'.join(re.escape(term) for term in covid_matches)\n",
    "filtered_for_covid = df.filter(pl.col('question').str.contains(covid_regex_pattern))"
   ]
  },
  {
   "cell_type": "code",
   "execution_count": 6,
   "id": "2e73c41f-6cfb-4fe3-a9c4-721c64cf309e",
   "metadata": {},
   "outputs": [
    {
     "name": "stdout",
     "output_type": "stream",
     "text": [
      "Number of questions which match our key terms, is: 1057\n"
     ]
    }
   ],
   "source": [
    "print(f\"Number of questions which match our key terms, is: {filtered_for_smoking.shape[0]}\")"
   ]
  },
  {
   "cell_type": "code",
   "execution_count": 7,
   "id": "9ef77d67-713f-4d13-8d8c-890e05e3c642",
   "metadata": {},
   "outputs": [
    {
     "name": "stdout",
     "output_type": "stream",
     "text": [
      "Number of questions which match our key terms, is: 187\n"
     ]
    }
   ],
   "source": [
    "print(f\"Number of questions which match our key terms, is: {filtered_for_obesity.shape[0]}\")"
   ]
  },
  {
   "cell_type": "code",
   "execution_count": 8,
   "id": "2f8570e0-082a-47f7-aa00-f709ae5d49e5",
   "metadata": {},
   "outputs": [
    {
     "name": "stdout",
     "output_type": "stream",
     "text": [
      "Number of questions which match our key terms, is: 3\n"
     ]
    }
   ],
   "source": [
    "print(f\"Number of questions which match our key terms, is: {filtered_for_covid.shape[0]}\")"
   ]
  },
  {
   "cell_type": "markdown",
   "id": "ea4377f5-7b7f-40b8-8dce-8b9d36c21a12",
   "metadata": {},
   "source": [
    "# Question1"
   ]
  },
  {
   "cell_type": "code",
   "execution_count": 9,
   "id": "34148280-5946-4f1c-aa17-f33d715dc251",
   "metadata": {},
   "outputs": [
    {
     "data": {
      "text/plain": [
       "'A 76-year-old African American man presents to his primary care provider complaining of urinary frequency. He wakes up 3-4 times per night to urinate while he previously only had to wake up once per night. He also complains of post-void dribbling and difficulty initiating a stream of urine. He denies any difficulty maintaining an erection. His past medical history is notable for non-alcoholic fatty liver disease, hypertension, hyperlipidemia, and gout. He takes aspirin, atorvastatin, enalapril, and allopurinol. His family history is notable for prostate cancer in his father and lung cancer in his mother. He has a 15-pack-year smoking history and drinks alcohol socially. On digital rectal exam, his prostate is enlarged, smooth, and non-tender. Which of the following medications is indicated in this patient?'"
      ]
     },
     "execution_count": 9,
     "metadata": {},
     "output_type": "execute_result"
    }
   ],
   "source": [
    "filtered_for_smoking.select('question')[1, 0]"
   ]
  },
  {
   "cell_type": "code",
   "execution_count": 10,
   "id": "61c33832-c04f-4d30-acf2-cd399c1feb96",
   "metadata": {},
   "outputs": [
    {
     "data": {
      "text/plain": [
       "{'A': 'Hydrochlorothiazide',\n",
       " 'B': 'Midodrine',\n",
       " 'C': 'Oxybutynin',\n",
       " 'D': 'Tamsulosin'}"
      ]
     },
     "execution_count": 10,
     "metadata": {},
     "output_type": "execute_result"
    }
   ],
   "source": [
    "filtered_for_smoking.select('options')[1, 0]"
   ]
  },
  {
   "cell_type": "code",
   "execution_count": 11,
   "id": "c1294e9b-c116-4637-ae06-50ecf2ab93d6",
   "metadata": {},
   "outputs": [
    {
     "data": {
      "text/plain": [
       "'Tamsulosin'"
      ]
     },
     "execution_count": 11,
     "metadata": {},
     "output_type": "execute_result"
    }
   ],
   "source": [
    "filtered_for_smoking.select('answer')[1, 0]"
   ]
  },
  {
   "cell_type": "markdown",
   "id": "21cef903-b649-4ee9-9614-8ce93ee1d46f",
   "metadata": {},
   "source": [
    "# Question2"
   ]
  },
  {
   "cell_type": "code",
   "execution_count": 12,
   "id": "d9d6e202-dec4-4de2-a551-65357d4653ad",
   "metadata": {},
   "outputs": [
    {
     "data": {
      "text/plain": [
       "'An investigator is studying obesity in mice. Over the course of 2 weeks, mice in the experimental group receive a daily injection with a synthetic analog of an endogenous hormone. Compared to the control group, the hormone-injected mice eat more and gain significantly more weight. Which of the following is the most likely explanation for the observed weight gain in the experimental group?'"
      ]
     },
     "execution_count": 12,
     "metadata": {},
     "output_type": "execute_result"
    }
   ],
   "source": [
    "filtered_for_obesity.select('question')[2, 0]"
   ]
  },
  {
   "cell_type": "code",
   "execution_count": 13,
   "id": "ce2fc886-0503-447b-bb85-b4a9e7b8626e",
   "metadata": {},
   "outputs": [
    {
     "data": {
      "text/plain": [
       "{'A': 'Cholecystokinin stimulation of the nucleus tractus solitarius',\n",
       " 'B': 'Somatostatin inhibition of the anterior pituitary',\n",
       " 'C': 'Ghrelin stimulation of the lateral hypothalamus',\n",
       " 'D': 'Glucagon stimulation of hepatocytes'}"
      ]
     },
     "execution_count": 13,
     "metadata": {},
     "output_type": "execute_result"
    }
   ],
   "source": [
    "filtered_for_obesity.select('options')[2, 0]"
   ]
  },
  {
   "cell_type": "code",
   "execution_count": 14,
   "id": "d1eba897-2db3-4a39-869e-40fb75a16cdf",
   "metadata": {},
   "outputs": [
    {
     "data": {
      "text/plain": [
       "'Ghrelin stimulation of the lateral hypothalamus'"
      ]
     },
     "execution_count": 14,
     "metadata": {},
     "output_type": "execute_result"
    }
   ],
   "source": [
    "filtered_for_obesity.select('answer')[2, 0]"
   ]
  },
  {
   "cell_type": "markdown",
   "id": "b6531dfc-b21b-4ad5-a0dd-6225faf1b115",
   "metadata": {},
   "source": [
    "# Question3"
   ]
  },
  {
   "cell_type": "code",
   "execution_count": 15,
   "id": "73ec68d0-601b-4bbc-ae43-8f62f30b6168",
   "metadata": {},
   "outputs": [
    {
     "data": {
      "text/plain": [
       "\"A 16-year-old boy is brought to the physician by his mother because she is worried about his behavior. Yesterday, he was expelled from school for repeatedly skipping classes. Over the past 2 months, he was suspended 3 times for bullying and aggressive behavior towards his peers and teachers. Once, his neighbor found him smoking cigarettes in his backyard. In the past, he consistently maintained an A grade average and had been a regular attendee of youth group events at their local church. The mother first noticed this change in behavior 3 months ago, around the time at which his father moved out after discovering his wife was having an affair. Which of the following defense mechanisms best describes the change in this patient's behavior?\""
      ]
     },
     "execution_count": 15,
     "metadata": {},
     "output_type": "execute_result"
    }
   ],
   "source": [
    "filtered_for_smoking.select('question')[3, 0]"
   ]
  },
  {
   "cell_type": "code",
   "execution_count": 16,
   "id": "e78d107b-fd25-43b4-ab72-2f106158c695",
   "metadata": {},
   "outputs": [
    {
     "data": {
      "text/plain": [
       "{'A': 'Acting out',\n",
       " 'B': 'Projection',\n",
       " 'C': 'Passive aggression',\n",
       " 'D': 'Regression'}"
      ]
     },
     "execution_count": 16,
     "metadata": {},
     "output_type": "execute_result"
    }
   ],
   "source": [
    "filtered_for_smoking.select('options')[3, 0]"
   ]
  },
  {
   "cell_type": "code",
   "execution_count": 17,
   "id": "0a9633e6-5523-4b48-bcac-7c9ddc756341",
   "metadata": {},
   "outputs": [
    {
     "data": {
      "text/plain": [
       "'Acting out'"
      ]
     },
     "execution_count": 17,
     "metadata": {},
     "output_type": "execute_result"
    }
   ],
   "source": [
    "filtered_for_smoking.select('answer')[3, 0]"
   ]
  },
  {
   "cell_type": "markdown",
   "id": "5f833317-7944-44a0-a0fd-096762318ddd",
   "metadata": {},
   "source": [
    "# Question4"
   ]
  },
  {
   "cell_type": "code",
   "execution_count": 18,
   "id": "cebdeb78-7d4b-4e98-9910-837c41324ba6",
   "metadata": {},
   "outputs": [
    {
     "data": {
      "text/plain": [
       "'A 79-year-old man presents to a physician’s office for a routine appointment. He had a myocardial infarction 3 years ago and was started on aspirin, carvedilol, captopril, and high-dose atorvastatin. He denies shortness of breath or cough. He exercises regularly and is on a healthy diet that is good for his heart. The vital signs include: pulse 80/min, respirations 16/min and blood pressure 122/80 mm Hg. The physical examination reveals an overweight male with a body mass index (BMI) of 28 kg/m2. The fasting lipid profile is as follows:\\nTotal cholesterol 200 mg/dL\\nHigh-density lipoprotein (HDL)  35 mg/dL\\nLow-density lipoprotein (LDL) 140 mg/dL\\nTriglycerides 120 mg/dL\\nWhich of the following drugs should be added to his regimen?'"
      ]
     },
     "execution_count": 18,
     "metadata": {},
     "output_type": "execute_result"
    }
   ],
   "source": [
    "filtered_for_obesity.select('question')[100, 0]"
   ]
  },
  {
   "cell_type": "code",
   "execution_count": 19,
   "id": "c467a065-7ae0-48fe-b3c4-33d25f21c488",
   "metadata": {},
   "outputs": [
    {
     "data": {
      "text/plain": [
       "{'A': 'Topiramate', 'B': 'Exenatide', 'C': 'Pioglitazone', 'D': 'Acarbose'}"
      ]
     },
     "execution_count": 19,
     "metadata": {},
     "output_type": "execute_result"
    }
   ],
   "source": [
    "filtered_for_obesity.select('options')[3, 0]"
   ]
  },
  {
   "cell_type": "code",
   "execution_count": 20,
   "id": "46299582-d09b-46c4-8350-3764200a9a0c",
   "metadata": {},
   "outputs": [
    {
     "data": {
      "text/plain": [
       "'Exenatide'"
      ]
     },
     "execution_count": 20,
     "metadata": {},
     "output_type": "execute_result"
    }
   ],
   "source": [
    "filtered_for_obesity.select('answer')[3, 0]"
   ]
  },
  {
   "cell_type": "markdown",
   "id": "4da037c3-55be-4327-8981-079bdfe01328",
   "metadata": {},
   "source": [
    "# Question5"
   ]
  },
  {
   "cell_type": "code",
   "execution_count": 21,
   "id": "a0da4808-8338-48ad-97ff-b619e9122c8b",
   "metadata": {},
   "outputs": [
    {
     "data": {
      "text/plain": [
       "'A 54-year-old woman comes to the office complaining of increased urinary frequency and dysuria. She is accompanied by her husband. The patient reports that she goes to the bathroom 6-8 times a day. Additionally, she complains of pain at the end of her urinary stream. She denies fever, abdominal pain, vaginal discharge, or hematuria. Her husband adds, “we also don’t have sex as much as we used to.” The patient reports that even when she is “in the mood,” sex is “no longer pleasurable.” She admits feeling guilty about this. The patient’s last menstrual period was 15 months ago. Her medical history is significant for hyperlipidemia and coronary artery disease. She had a non-ST elevation myocardial infarction (NSTEMI) 3 months ago, and she has had multiple urinary tract infections (UTIs) in the past year. She smokes 1 pack of cigarettes a day and denies alcohol or illicit drug use. Body mass index is 32 kg/m^2. Pelvic examination reveals vaginal dryness and vulvar tissue thinning. A urinalysis is obtained as shown below:\\n\\nUrinalysis\\nGlucose: Negative\\nWBC: 25/hpf\\nBacterial: Many\\nLeukocyte esterase: Positive\\nNitrites: Positive\\n\\nThe patient is prescribed a 5-day course of nitrofurantoin. Which of the following is the most appropriate additional management for the patient’s symptoms?'"
      ]
     },
     "execution_count": 21,
     "metadata": {},
     "output_type": "execute_result"
    }
   ],
   "source": [
    "filtered_for_smoking.select('question')[700, 0]"
   ]
  },
  {
   "cell_type": "code",
   "execution_count": 22,
   "id": "1d4ff829-d147-4e6e-b658-e464496aa93c",
   "metadata": {},
   "outputs": [
    {
     "data": {
      "text/plain": [
       "{'A': 'Antibiotic prophylaxis',\n",
       " 'B': 'Topical clobetasol',\n",
       " 'C': 'Topical estrogen',\n",
       " 'D': 'Venlafaxine'}"
      ]
     },
     "execution_count": 22,
     "metadata": {},
     "output_type": "execute_result"
    }
   ],
   "source": [
    "filtered_for_smoking.select('options')[700, 0]"
   ]
  },
  {
   "cell_type": "code",
   "execution_count": 23,
   "id": "37429c49-34ee-47f4-9229-2be49db3e4dd",
   "metadata": {},
   "outputs": [
    {
     "data": {
      "text/plain": [
       "'Topical estrogen'"
      ]
     },
     "execution_count": 23,
     "metadata": {},
     "output_type": "execute_result"
    }
   ],
   "source": [
    "filtered_for_smoking.select('answer')[700, 0]"
   ]
  },
  {
   "cell_type": "markdown",
   "id": "98b6bd07-0767-4ed8-88bf-9e0f0aeae90a",
   "metadata": {},
   "source": [
    "# Question6"
   ]
  },
  {
   "cell_type": "code",
   "execution_count": 24,
   "id": "1f3fb9fd-7020-4ace-9f3e-546f59a7cd3d",
   "metadata": {},
   "outputs": [
    {
     "data": {
      "text/plain": [
       "'A 70-year-old woman is brought to her physician by her daughter who reports that the patient has been increasingly confused and forgetful over the past year. The daughter reports that the patient has difficulty finding words, remembering names, and maintaining a conversation. She has gotten lost twice while driving. Her past medical history is known for obesity, diabetes, and atrial fibrillation. She takes metformin, glyburide, and warfarin. She drinks socially and has a 30 pack-year smoking history. Her family history is notable for Parkinson’s disease in her father and stroke in her mother. A head CT demonstrates sulcal widening and narrowing of the gyri. The physician decides to start the patient on a medication known to inhibit a cell surface glutamate receptor. Which of the following is a downstream effect of this medication?'"
      ]
     },
     "execution_count": 24,
     "metadata": {},
     "output_type": "execute_result"
    }
   ],
   "source": [
    "filtered_for_obesity.select('question')[50, 0]"
   ]
  },
  {
   "cell_type": "code",
   "execution_count": 25,
   "id": "c1232077-590c-448f-9eea-2e00723121d7",
   "metadata": {},
   "outputs": [
    {
     "data": {
      "text/plain": [
       "{'A': 'Decreased intracellular calcium',\n",
       " 'B': 'Increased intracellular sodium',\n",
       " 'C': 'Increased intracellular acetylcholine',\n",
       " 'D': 'Decreased intracellular acetylcholine'}"
      ]
     },
     "execution_count": 25,
     "metadata": {},
     "output_type": "execute_result"
    }
   ],
   "source": [
    "filtered_for_obesity.select('options')[50, 0]"
   ]
  },
  {
   "cell_type": "code",
   "execution_count": 26,
   "id": "388a1373-f7c5-4fee-9c5a-11cab274c65c",
   "metadata": {},
   "outputs": [
    {
     "data": {
      "text/plain": [
       "'Decreased intracellular calcium'"
      ]
     },
     "execution_count": 26,
     "metadata": {},
     "output_type": "execute_result"
    }
   ],
   "source": [
    "filtered_for_obesity.select('answer')[50, 0]"
   ]
  },
  {
   "cell_type": "markdown",
   "id": "a624f9a4-7cf0-4c39-abd8-1e7d0c338d71",
   "metadata": {},
   "source": [
    "# Question7"
   ]
  },
  {
   "cell_type": "code",
   "execution_count": 27,
   "id": "2627c64c-908f-44be-8faa-f1ef8f601a93",
   "metadata": {},
   "outputs": [
    {
     "data": {
      "text/plain": [
       "'A 12-year-old boy is brought to his pediatrician with a high fever. He was feeling fatigued yesterday and then developed a high fever overnight that was accompanied by chills and malaise. This morning he also started complaining of headaches and myalgias. He has otherwise been healthy and does not take any medications. He says that his friends came down with the same symptoms last week. He is given oseltamivir and given instructions to rest and stay hydrated. He is also told that this year the disease is particularly infectious and is currently causing a global pandemic. He asks the physician why the same virus can infect people who have already had the disease and is told about a particular property of this virus. Which of the following properties is required for the viral genetic change that permits global pandemics of this virus?'"
      ]
     },
     "execution_count": 27,
     "metadata": {},
     "output_type": "execute_result"
    }
   ],
   "source": [
    "filtered_for_covid.select('question')[0, 0]"
   ]
  },
  {
   "cell_type": "code",
   "execution_count": 28,
   "id": "401b5c4c-9010-4b26-8296-144186b27dd8",
   "metadata": {},
   "outputs": [
    {
     "data": {
      "text/plain": [
       "{'A': 'Concurrent infection with 2 viruses',\n",
       " 'B': 'Crossing over of homologous regions',\n",
       " 'C': 'One virus that produces a non-functional protein',\n",
       " 'D': 'Segmented genomic material'}"
      ]
     },
     "execution_count": 28,
     "metadata": {},
     "output_type": "execute_result"
    }
   ],
   "source": [
    "filtered_for_covid.select('options')[0, 0]"
   ]
  },
  {
   "cell_type": "code",
   "execution_count": 29,
   "id": "02083a2c-5af1-422d-a9cf-aec960641f6e",
   "metadata": {},
   "outputs": [
    {
     "data": {
      "text/plain": [
       "'Segmented genomic material'"
      ]
     },
     "execution_count": 29,
     "metadata": {},
     "output_type": "execute_result"
    }
   ],
   "source": [
    "filtered_for_covid.select('answer')[0, 0]"
   ]
  },
  {
   "cell_type": "markdown",
   "id": "8bb0ad1f-71dd-48ad-90f2-026abe3706cf",
   "metadata": {},
   "source": [
    "# Question8"
   ]
  },
  {
   "cell_type": "code",
   "execution_count": 30,
   "id": "97b8acab-95e9-48e5-aeed-f4b5b4a58901",
   "metadata": {},
   "outputs": [
    {
     "data": {
      "text/plain": [
       "'A 55-year-old man with a history of fatigue and exertional dyspnea presents to the urgent care clinic following an acute upper respiratory illness. On physical examination, his pulses are bounding, his complexion is very pale, and scleral icterus is apparent. The spleen is moderately enlarged. Oxygen saturation is 79% at rest, with a new oxygen requirement of 9 L by a non-rebreather mask. Laboratory analysis results show a hemoglobin level of 6.8 g/dL. Of the following options, which hypersensitivity reaction does this condition represent?'"
      ]
     },
     "execution_count": 30,
     "metadata": {},
     "output_type": "execute_result"
    }
   ],
   "source": [
    "filtered_for_covid.select('question')[1, 0]"
   ]
  },
  {
   "cell_type": "code",
   "execution_count": 31,
   "id": "41b5fa2a-74c1-46b1-909d-2f14c4a66f2a",
   "metadata": {},
   "outputs": [
    {
     "data": {
      "text/plain": [
       "{'A': 'Type I–anaphylactic hypersensitivity reaction',\n",
       " 'B': 'Type II–cytotoxic hypersensitivity reaction',\n",
       " 'C': 'Type III–immune complex-mediated hypersensitivity reaction',\n",
       " 'D': 'Type II and II–mixed cytotoxic and immune complex hypersensitivity reaction'}"
      ]
     },
     "execution_count": 31,
     "metadata": {},
     "output_type": "execute_result"
    }
   ],
   "source": [
    "filtered_for_covid.select('options')[1, 0]"
   ]
  },
  {
   "cell_type": "code",
   "execution_count": 32,
   "id": "2233bac8-fe90-43da-b765-61c6dd0512f7",
   "metadata": {},
   "outputs": [
    {
     "data": {
      "text/plain": [
       "'Type II–cytotoxic hypersensitivity reaction'"
      ]
     },
     "execution_count": 32,
     "metadata": {},
     "output_type": "execute_result"
    }
   ],
   "source": [
    "filtered_for_covid.select('answer')[1, 0]"
   ]
  },
  {
   "cell_type": "markdown",
   "id": "b1a56f6a-bda6-42bf-b2ea-862e36bf0cb1",
   "metadata": {},
   "source": [
    "# Question9"
   ]
  },
  {
   "cell_type": "code",
   "execution_count": 33,
   "id": "f81723f4-84b4-4707-bc35-a1a97c064810",
   "metadata": {},
   "outputs": [
    {
     "data": {
      "text/plain": [
       "'A homeless 45-year-old man presents to the emergency room in December complaining of malaise, body aches, chills, and fever. He reports that his symptoms started 4 days ago. His myalgias and chills have begun to resolve, but now he is starting to develop a dry cough, dyspnea, and a sore throat. He does not have a primary care provider and has not had any vaccinations in over 2 decades. He receives medical care from the emergency room whenever he is feeling ill. His temperature is 103°F (39.4°C), blood pressure is 130/70 mmHg, pulse is 115/min, and respirations are 22/min. On exam, he appears fatigued with mildly increased work of breathing. A chest radiograph is negative. A nasopharyngeal viral culture is positive for an orthomyxovirus. Upon further review of the patient’s medical record, he was diagnosed with the same condition 1 year ago in November. Which of the following mechanisms is responsible for pandemics of this patient’s disease?'"
      ]
     },
     "execution_count": 33,
     "metadata": {},
     "output_type": "execute_result"
    }
   ],
   "source": [
    "filtered_for_covid.select('question')[2, 0]"
   ]
  },
  {
   "cell_type": "code",
   "execution_count": 34,
   "id": "919754f2-d71a-4bae-87f6-c66c47266268",
   "metadata": {},
   "outputs": [
    {
     "data": {
      "text/plain": [
       "{'A': 'Complementation',\n",
       " 'B': 'Reassortment',\n",
       " 'C': 'Recombination',\n",
       " 'D': 'Transduction'}"
      ]
     },
     "execution_count": 34,
     "metadata": {},
     "output_type": "execute_result"
    }
   ],
   "source": [
    "filtered_for_covid.select('options')[2, 0]"
   ]
  },
  {
   "cell_type": "code",
   "execution_count": 35,
   "id": "a7128df9-de5f-47c3-b5d7-2f27458f22eb",
   "metadata": {},
   "outputs": [
    {
     "data": {
      "text/plain": [
       "'Reassortment'"
      ]
     },
     "execution_count": 35,
     "metadata": {},
     "output_type": "execute_result"
    }
   ],
   "source": [
    "filtered_for_covid.select('answer')[2, 0]"
   ]
  }
 ],
 "metadata": {
  "kernelspec": {
   "display_name": "Python 3 (ipykernel)",
   "language": "python",
   "name": "python3"
  },
  "language_info": {
   "codemirror_mode": {
    "name": "ipython",
    "version": 3
   },
   "file_extension": ".py",
   "mimetype": "text/x-python",
   "name": "python",
   "nbconvert_exporter": "python",
   "pygments_lexer": "ipython3",
   "version": "3.9.5"
  }
 },
 "nbformat": 4,
 "nbformat_minor": 5
}
